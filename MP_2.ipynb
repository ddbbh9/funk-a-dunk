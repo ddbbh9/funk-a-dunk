{
  "nbformat": 4,
  "nbformat_minor": 0,
  "metadata": {
    "colab": {
      "provenance": [],
      "include_colab_link": true
    },
    "kernelspec": {
      "name": "python3",
      "display_name": "Python 3"
    },
    "language_info": {
      "name": "python"
    }
  },
  "cells": [
    {
      "cell_type": "markdown",
      "metadata": {
        "id": "view-in-github",
        "colab_type": "text"
      },
      "source": [
        "<a href=\"https://colab.research.google.com/github/ddbbh9/funk-a-dunk/blob/main/MP_2.ipynb\" target=\"_parent\"><img src=\"https://colab.research.google.com/assets/colab-badge.svg\" alt=\"Open In Colab\"/></a>"
      ]
    },
    {
      "cell_type": "code",
      "source": [
        "!pip install mmh3\n",
        "import mmh3"
      ],
      "metadata": {
        "colab": {
          "base_uri": "https://localhost:8080/"
        },
        "id": "qc-sLNaGxW5_",
        "outputId": "becfaf6f-5dde-4a16-8226-f497630dff0b"
      },
      "execution_count": null,
      "outputs": [
        {
          "output_type": "stream",
          "name": "stdout",
          "text": [
            "Looking in indexes: https://pypi.org/simple, https://us-python.pkg.dev/colab-wheels/public/simple/\n",
            "Collecting mmh3\n",
            "  Downloading mmh3-3.1.0-cp39-cp39-manylinux_2_5_x86_64.manylinux1_x86_64.manylinux_2_17_x86_64.manylinux2014_x86_64.whl (37 kB)\n",
            "Installing collected packages: mmh3\n",
            "Successfully installed mmh3-3.1.0\n"
          ]
        }
      ]
    },
    {
      "cell_type": "code",
      "source": [
        "!pip install BitVector\n",
        "import BitVector as bv"
      ],
      "metadata": {
        "colab": {
          "base_uri": "https://localhost:8080/"
        },
        "id": "ur8Y5HF5yKgh",
        "outputId": "afa69229-c70e-47db-cfc6-851dda7c85fb"
      },
      "execution_count": null,
      "outputs": [
        {
          "output_type": "stream",
          "name": "stdout",
          "text": [
            "Looking in indexes: https://pypi.org/simple, https://us-python.pkg.dev/colab-wheels/public/simple/\n",
            "Collecting BitVector\n",
            "  Downloading BitVector-3.5.0.tar.gz (161 kB)\n",
            "\u001b[2K     \u001b[90m━━━━━━━━━━━━━━━━━━━━━━━━━━━━━━━━━━━━━━━\u001b[0m \u001b[32m161.7/161.7 KB\u001b[0m \u001b[31m3.7 MB/s\u001b[0m eta \u001b[36m0:00:00\u001b[0m\n",
            "\u001b[?25h  Preparing metadata (setup.py) ... \u001b[?25l\u001b[?25hdone\n",
            "Building wheels for collected packages: BitVector\n",
            "  Building wheel for BitVector (setup.py) ... \u001b[?25l\u001b[?25hdone\n",
            "  Created wheel for BitVector: filename=BitVector-3.5.0-py3-none-any.whl size=43507 sha256=7f20a79e3f33bec44f95184391b0fc9e9d334f53c284b67b017677546cb657ee\n",
            "  Stored in directory: /root/.cache/pip/wheels/44/da/46/940839fb37eed5ad403ab59d4f40e35c171aed030bc729df4d\n",
            "Successfully built BitVector\n",
            "Installing collected packages: BitVector\n",
            "Successfully installed BitVector-3.5.0\n"
          ]
        }
      ]
    },
    {
      "cell_type": "code",
      "source": [
        "import matplotlib.pyplot as plt"
      ],
      "metadata": {
        "id": "gkE-1wGLGbRY"
      },
      "execution_count": null,
      "outputs": []
    },
    {
      "cell_type": "code",
      "source": [
        "from google.colab import drive\n",
        "drive.mount('/content/drive')"
      ],
      "metadata": {
        "colab": {
          "base_uri": "https://localhost:8080/"
        },
        "id": "NB1OJuFCaRgO",
        "outputId": "32362809-37ea-42e2-f330-67e9561699d5"
      },
      "execution_count": null,
      "outputs": [
        {
          "output_type": "stream",
          "name": "stdout",
          "text": [
            "Mounted at /content/drive\n"
          ]
        }
      ]
    },
    {
      "cell_type": "code",
      "execution_count": null,
      "metadata": {
        "id": "5zug0FFJvNRC"
      },
      "outputs": [],
      "source": [
        "import pandas as pd"
      ]
    },
    {
      "cell_type": "code",
      "source": [
        "def seededHash(value, seed=None):\n",
        "    if seed:\n",
        "        return mmh3.hash(value, seed)\n",
        "    return mmh3.hash(value)"
      ],
      "metadata": {
        "id": "N_kCpEg6ayrh"
      },
      "execution_count": null,
      "outputs": []
    },
    {
      "cell_type": "code",
      "source": [
        "df = pd.read_csv('/content/drive/MyDrive/Colab Notebooks/MP_2/IMDB top 1000.csv')\n",
        "df.head()"
      ],
      "metadata": {
        "colab": {
          "base_uri": "https://localhost:8080/",
          "height": 372
        },
        "id": "-6BCNAqvzRj3",
        "outputId": "f1beb101-bb40-4127-de6a-40ef6d4511da"
      },
      "execution_count": null,
      "outputs": [
        {
          "output_type": "execute_result",
          "data": {
            "text/plain": [
              "   Unnamed: 0                                              Title Certificate  \\\n",
              "0           0                 1. The Shawshank Redemption (1994)           R   \n",
              "1           1                            2. The Godfather (1972)           R   \n",
              "2           2                          3. The Dark Knight (2008)       PG-13   \n",
              "3           3                   4. The Godfather: Part II (1974)           R   \n",
              "4           4  5. The Lord of the Rings: The Return of the Ki...       PG-13   \n",
              "\n",
              "  Duration                     Genre  Rate  Metascore  \\\n",
              "0  142 min                     Drama   9.3       80.0   \n",
              "1  175 min              Crime, Drama   9.2      100.0   \n",
              "2  152 min      Action, Crime, Drama   9.0       84.0   \n",
              "3  202 min              Crime, Drama   9.0       90.0   \n",
              "4  201 min  Action, Adventure, Drama   8.9       94.0   \n",
              "\n",
              "                                         Description  \\\n",
              "0  Two imprisoned men bond over a number of years...   \n",
              "1  The aging patriarch of an organized crime dyna...   \n",
              "2  When the menace known as the Joker wreaks havo...   \n",
              "3  The early life and career of Vito Corleone in ...   \n",
              "4  Gandalf and Aragorn lead the World of Men agai...   \n",
              "\n",
              "                                                Cast  \\\n",
              "0  Director: Frank Darabont | Stars: Tim Robbins,...   \n",
              "1  Director: Francis Ford Coppola | Stars: Marlon...   \n",
              "2  Director: Christopher Nolan | Stars: Christian...   \n",
              "3  Director: Francis Ford Coppola | Stars: Al Pac...   \n",
              "4  Director: Peter Jackson | Stars: Elijah Wood, ...   \n",
              "\n",
              "                                 Info  \n",
              "0   Votes: 2,295,987 | Gross: $28.34M  \n",
              "1  Votes: 1,584,782 | Gross: $134.97M  \n",
              "2  Votes: 2,260,649 | Gross: $534.86M  \n",
              "3   Votes: 1,107,253 | Gross: $57.30M  \n",
              "4  Votes: 1,614,369 | Gross: $377.85M  "
            ],
            "text/html": [
              "\n",
              "  <div id=\"df-91d47e32-b74e-462f-83d2-55d924ea6152\">\n",
              "    <div class=\"colab-df-container\">\n",
              "      <div>\n",
              "<style scoped>\n",
              "    .dataframe tbody tr th:only-of-type {\n",
              "        vertical-align: middle;\n",
              "    }\n",
              "\n",
              "    .dataframe tbody tr th {\n",
              "        vertical-align: top;\n",
              "    }\n",
              "\n",
              "    .dataframe thead th {\n",
              "        text-align: right;\n",
              "    }\n",
              "</style>\n",
              "<table border=\"1\" class=\"dataframe\">\n",
              "  <thead>\n",
              "    <tr style=\"text-align: right;\">\n",
              "      <th></th>\n",
              "      <th>Unnamed: 0</th>\n",
              "      <th>Title</th>\n",
              "      <th>Certificate</th>\n",
              "      <th>Duration</th>\n",
              "      <th>Genre</th>\n",
              "      <th>Rate</th>\n",
              "      <th>Metascore</th>\n",
              "      <th>Description</th>\n",
              "      <th>Cast</th>\n",
              "      <th>Info</th>\n",
              "    </tr>\n",
              "  </thead>\n",
              "  <tbody>\n",
              "    <tr>\n",
              "      <th>0</th>\n",
              "      <td>0</td>\n",
              "      <td>1. The Shawshank Redemption (1994)</td>\n",
              "      <td>R</td>\n",
              "      <td>142 min</td>\n",
              "      <td>Drama</td>\n",
              "      <td>9.3</td>\n",
              "      <td>80.0</td>\n",
              "      <td>Two imprisoned men bond over a number of years...</td>\n",
              "      <td>Director: Frank Darabont | Stars: Tim Robbins,...</td>\n",
              "      <td>Votes: 2,295,987 | Gross: $28.34M</td>\n",
              "    </tr>\n",
              "    <tr>\n",
              "      <th>1</th>\n",
              "      <td>1</td>\n",
              "      <td>2. The Godfather (1972)</td>\n",
              "      <td>R</td>\n",
              "      <td>175 min</td>\n",
              "      <td>Crime, Drama</td>\n",
              "      <td>9.2</td>\n",
              "      <td>100.0</td>\n",
              "      <td>The aging patriarch of an organized crime dyna...</td>\n",
              "      <td>Director: Francis Ford Coppola | Stars: Marlon...</td>\n",
              "      <td>Votes: 1,584,782 | Gross: $134.97M</td>\n",
              "    </tr>\n",
              "    <tr>\n",
              "      <th>2</th>\n",
              "      <td>2</td>\n",
              "      <td>3. The Dark Knight (2008)</td>\n",
              "      <td>PG-13</td>\n",
              "      <td>152 min</td>\n",
              "      <td>Action, Crime, Drama</td>\n",
              "      <td>9.0</td>\n",
              "      <td>84.0</td>\n",
              "      <td>When the menace known as the Joker wreaks havo...</td>\n",
              "      <td>Director: Christopher Nolan | Stars: Christian...</td>\n",
              "      <td>Votes: 2,260,649 | Gross: $534.86M</td>\n",
              "    </tr>\n",
              "    <tr>\n",
              "      <th>3</th>\n",
              "      <td>3</td>\n",
              "      <td>4. The Godfather: Part II (1974)</td>\n",
              "      <td>R</td>\n",
              "      <td>202 min</td>\n",
              "      <td>Crime, Drama</td>\n",
              "      <td>9.0</td>\n",
              "      <td>90.0</td>\n",
              "      <td>The early life and career of Vito Corleone in ...</td>\n",
              "      <td>Director: Francis Ford Coppola | Stars: Al Pac...</td>\n",
              "      <td>Votes: 1,107,253 | Gross: $57.30M</td>\n",
              "    </tr>\n",
              "    <tr>\n",
              "      <th>4</th>\n",
              "      <td>4</td>\n",
              "      <td>5. The Lord of the Rings: The Return of the Ki...</td>\n",
              "      <td>PG-13</td>\n",
              "      <td>201 min</td>\n",
              "      <td>Action, Adventure, Drama</td>\n",
              "      <td>8.9</td>\n",
              "      <td>94.0</td>\n",
              "      <td>Gandalf and Aragorn lead the World of Men agai...</td>\n",
              "      <td>Director: Peter Jackson | Stars: Elijah Wood, ...</td>\n",
              "      <td>Votes: 1,614,369 | Gross: $377.85M</td>\n",
              "    </tr>\n",
              "  </tbody>\n",
              "</table>\n",
              "</div>\n",
              "      <button class=\"colab-df-convert\" onclick=\"convertToInteractive('df-91d47e32-b74e-462f-83d2-55d924ea6152')\"\n",
              "              title=\"Convert this dataframe to an interactive table.\"\n",
              "              style=\"display:none;\">\n",
              "        \n",
              "  <svg xmlns=\"http://www.w3.org/2000/svg\" height=\"24px\"viewBox=\"0 0 24 24\"\n",
              "       width=\"24px\">\n",
              "    <path d=\"M0 0h24v24H0V0z\" fill=\"none\"/>\n",
              "    <path d=\"M18.56 5.44l.94 2.06.94-2.06 2.06-.94-2.06-.94-.94-2.06-.94 2.06-2.06.94zm-11 1L8.5 8.5l.94-2.06 2.06-.94-2.06-.94L8.5 2.5l-.94 2.06-2.06.94zm10 10l.94 2.06.94-2.06 2.06-.94-2.06-.94-.94-2.06-.94 2.06-2.06.94z\"/><path d=\"M17.41 7.96l-1.37-1.37c-.4-.4-.92-.59-1.43-.59-.52 0-1.04.2-1.43.59L10.3 9.45l-7.72 7.72c-.78.78-.78 2.05 0 2.83L4 21.41c.39.39.9.59 1.41.59.51 0 1.02-.2 1.41-.59l7.78-7.78 2.81-2.81c.8-.78.8-2.07 0-2.86zM5.41 20L4 18.59l7.72-7.72 1.47 1.35L5.41 20z\"/>\n",
              "  </svg>\n",
              "      </button>\n",
              "      \n",
              "  <style>\n",
              "    .colab-df-container {\n",
              "      display:flex;\n",
              "      flex-wrap:wrap;\n",
              "      gap: 12px;\n",
              "    }\n",
              "\n",
              "    .colab-df-convert {\n",
              "      background-color: #E8F0FE;\n",
              "      border: none;\n",
              "      border-radius: 50%;\n",
              "      cursor: pointer;\n",
              "      display: none;\n",
              "      fill: #1967D2;\n",
              "      height: 32px;\n",
              "      padding: 0 0 0 0;\n",
              "      width: 32px;\n",
              "    }\n",
              "\n",
              "    .colab-df-convert:hover {\n",
              "      background-color: #E2EBFA;\n",
              "      box-shadow: 0px 1px 2px rgba(60, 64, 67, 0.3), 0px 1px 3px 1px rgba(60, 64, 67, 0.15);\n",
              "      fill: #174EA6;\n",
              "    }\n",
              "\n",
              "    [theme=dark] .colab-df-convert {\n",
              "      background-color: #3B4455;\n",
              "      fill: #D2E3FC;\n",
              "    }\n",
              "\n",
              "    [theme=dark] .colab-df-convert:hover {\n",
              "      background-color: #434B5C;\n",
              "      box-shadow: 0px 1px 3px 1px rgba(0, 0, 0, 0.15);\n",
              "      filter: drop-shadow(0px 1px 2px rgba(0, 0, 0, 0.3));\n",
              "      fill: #FFFFFF;\n",
              "    }\n",
              "  </style>\n",
              "\n",
              "      <script>\n",
              "        const buttonEl =\n",
              "          document.querySelector('#df-91d47e32-b74e-462f-83d2-55d924ea6152 button.colab-df-convert');\n",
              "        buttonEl.style.display =\n",
              "          google.colab.kernel.accessAllowed ? 'block' : 'none';\n",
              "\n",
              "        async function convertToInteractive(key) {\n",
              "          const element = document.querySelector('#df-91d47e32-b74e-462f-83d2-55d924ea6152');\n",
              "          const dataTable =\n",
              "            await google.colab.kernel.invokeFunction('convertToInteractive',\n",
              "                                                     [key], {});\n",
              "          if (!dataTable) return;\n",
              "\n",
              "          const docLinkHtml = 'Like what you see? Visit the ' +\n",
              "            '<a target=\"_blank\" href=https://colab.research.google.com/notebooks/data_table.ipynb>data table notebook</a>'\n",
              "            + ' to learn more about interactive tables.';\n",
              "          element.innerHTML = '';\n",
              "          dataTable['output_type'] = 'display_data';\n",
              "          await google.colab.output.renderOutput(dataTable, element);\n",
              "          const docLink = document.createElement('div');\n",
              "          docLink.innerHTML = docLinkHtml;\n",
              "          element.appendChild(docLink);\n",
              "        }\n",
              "      </script>\n",
              "    </div>\n",
              "  </div>\n",
              "  "
            ]
          },
          "metadata": {},
          "execution_count": 7
        }
      ]
    },
    {
      "cell_type": "code",
      "source": [
        "df[\"Genre\"] = df[\"Genre\"].str.split(\",\") "
      ],
      "metadata": {
        "id": "XrmCzX04zYL9"
      },
      "execution_count": null,
      "outputs": []
    },
    {
      "cell_type": "code",
      "source": [
        "df = df.explode(\"Genre\") \n",
        "df.reset_index(inplace = True)\n",
        "df"
      ],
      "metadata": {
        "colab": {
          "base_uri": "https://localhost:8080/",
          "height": 659
        },
        "id": "iwBkUSFx1ba8",
        "outputId": "4e810738-59a4-4fcb-81ed-788eaf6e225d"
      },
      "execution_count": null,
      "outputs": [
        {
          "output_type": "execute_result",
          "data": {
            "text/plain": [
              "      index  Unnamed: 0                               Title Certificate  \\\n",
              "0         0           0  1. The Shawshank Redemption (1994)           R   \n",
              "1         1           1             2. The Godfather (1972)           R   \n",
              "2         1           1             2. The Godfather (1972)           R   \n",
              "3         2           2           3. The Dark Knight (2008)       PG-13   \n",
              "4         2           2           3. The Dark Knight (2008)       PG-13   \n",
              "...     ...         ...                                 ...         ...   \n",
              "2503    997         997                     400. JFK (1991)           R   \n",
              "2504    997         997                     400. JFK (1991)           R   \n",
              "2505    998         998       301. Nights of Cabiria (1957)   Not Rated   \n",
              "2506    999         999         302. Throne of Blood (1957)   Not Rated   \n",
              "2507    999         999         302. Throne of Blood (1957)   Not Rated   \n",
              "\n",
              "     Duration      Genre  Rate  Metascore  \\\n",
              "0     142 min      Drama   9.3       80.0   \n",
              "1     175 min      Crime   9.2      100.0   \n",
              "2     175 min      Drama   9.2      100.0   \n",
              "3     152 min     Action   9.0       84.0   \n",
              "4     152 min      Crime   9.0       84.0   \n",
              "...       ...        ...   ...        ...   \n",
              "2503  189 min    History   8.0       72.0   \n",
              "2504  189 min   Thriller   8.0       72.0   \n",
              "2505  110 min      Drama   8.1        NaN   \n",
              "2506  110 min      Drama   8.1        NaN   \n",
              "2507  110 min    History   8.1        NaN   \n",
              "\n",
              "                                            Description  \\\n",
              "0     Two imprisoned men bond over a number of years...   \n",
              "1     The aging patriarch of an organized crime dyna...   \n",
              "2     The aging patriarch of an organized crime dyna...   \n",
              "3     When the menace known as the Joker wreaks havo...   \n",
              "4     When the menace known as the Joker wreaks havo...   \n",
              "...                                                 ...   \n",
              "2503  New Orleans District Attorney Jim Garrison dis...   \n",
              "2504  New Orleans District Attorney Jim Garrison dis...   \n",
              "2505  A waifish prostitute wanders the streets of Ro...   \n",
              "2506  A war-hardened general, egged on by his ambiti...   \n",
              "2507  A war-hardened general, egged on by his ambiti...   \n",
              "\n",
              "                                                   Cast  \\\n",
              "0     Director: Frank Darabont | Stars: Tim Robbins,...   \n",
              "1     Director: Francis Ford Coppola | Stars: Marlon...   \n",
              "2     Director: Francis Ford Coppola | Stars: Marlon...   \n",
              "3     Director: Christopher Nolan | Stars: Christian...   \n",
              "4     Director: Christopher Nolan | Stars: Christian...   \n",
              "...                                                 ...   \n",
              "2503  Director: Oliver Stone | Stars: Kevin Costner,...   \n",
              "2504  Director: Oliver Stone | Stars: Kevin Costner,...   \n",
              "2505  Director: Federico Fellini | Stars: Giulietta ...   \n",
              "2506  Director: Akira Kurosawa | Stars: Toshirô Mifu...   \n",
              "2507  Director: Akira Kurosawa | Stars: Toshirô Mifu...   \n",
              "\n",
              "                                    Info  \n",
              "0      Votes: 2,295,987 | Gross: $28.34M  \n",
              "1     Votes: 1,584,782 | Gross: $134.97M  \n",
              "2     Votes: 1,584,782 | Gross: $134.97M  \n",
              "3     Votes: 2,260,649 | Gross: $534.86M  \n",
              "4     Votes: 2,260,649 | Gross: $534.86M  \n",
              "...                                  ...  \n",
              "2503     Votes: 139,634 | Gross: $70.41M  \n",
              "2504     Votes: 139,634 | Gross: $70.41M  \n",
              "2505       Votes: 42,160 | Gross: $0.75M  \n",
              "2506                       Votes: 45,579  \n",
              "2507                       Votes: 45,579  \n",
              "\n",
              "[2508 rows x 11 columns]"
            ],
            "text/html": [
              "\n",
              "  <div id=\"df-8230412d-5434-4c43-babd-66e04b62b7eb\">\n",
              "    <div class=\"colab-df-container\">\n",
              "      <div>\n",
              "<style scoped>\n",
              "    .dataframe tbody tr th:only-of-type {\n",
              "        vertical-align: middle;\n",
              "    }\n",
              "\n",
              "    .dataframe tbody tr th {\n",
              "        vertical-align: top;\n",
              "    }\n",
              "\n",
              "    .dataframe thead th {\n",
              "        text-align: right;\n",
              "    }\n",
              "</style>\n",
              "<table border=\"1\" class=\"dataframe\">\n",
              "  <thead>\n",
              "    <tr style=\"text-align: right;\">\n",
              "      <th></th>\n",
              "      <th>index</th>\n",
              "      <th>Unnamed: 0</th>\n",
              "      <th>Title</th>\n",
              "      <th>Certificate</th>\n",
              "      <th>Duration</th>\n",
              "      <th>Genre</th>\n",
              "      <th>Rate</th>\n",
              "      <th>Metascore</th>\n",
              "      <th>Description</th>\n",
              "      <th>Cast</th>\n",
              "      <th>Info</th>\n",
              "    </tr>\n",
              "  </thead>\n",
              "  <tbody>\n",
              "    <tr>\n",
              "      <th>0</th>\n",
              "      <td>0</td>\n",
              "      <td>0</td>\n",
              "      <td>1. The Shawshank Redemption (1994)</td>\n",
              "      <td>R</td>\n",
              "      <td>142 min</td>\n",
              "      <td>Drama</td>\n",
              "      <td>9.3</td>\n",
              "      <td>80.0</td>\n",
              "      <td>Two imprisoned men bond over a number of years...</td>\n",
              "      <td>Director: Frank Darabont | Stars: Tim Robbins,...</td>\n",
              "      <td>Votes: 2,295,987 | Gross: $28.34M</td>\n",
              "    </tr>\n",
              "    <tr>\n",
              "      <th>1</th>\n",
              "      <td>1</td>\n",
              "      <td>1</td>\n",
              "      <td>2. The Godfather (1972)</td>\n",
              "      <td>R</td>\n",
              "      <td>175 min</td>\n",
              "      <td>Crime</td>\n",
              "      <td>9.2</td>\n",
              "      <td>100.0</td>\n",
              "      <td>The aging patriarch of an organized crime dyna...</td>\n",
              "      <td>Director: Francis Ford Coppola | Stars: Marlon...</td>\n",
              "      <td>Votes: 1,584,782 | Gross: $134.97M</td>\n",
              "    </tr>\n",
              "    <tr>\n",
              "      <th>2</th>\n",
              "      <td>1</td>\n",
              "      <td>1</td>\n",
              "      <td>2. The Godfather (1972)</td>\n",
              "      <td>R</td>\n",
              "      <td>175 min</td>\n",
              "      <td>Drama</td>\n",
              "      <td>9.2</td>\n",
              "      <td>100.0</td>\n",
              "      <td>The aging patriarch of an organized crime dyna...</td>\n",
              "      <td>Director: Francis Ford Coppola | Stars: Marlon...</td>\n",
              "      <td>Votes: 1,584,782 | Gross: $134.97M</td>\n",
              "    </tr>\n",
              "    <tr>\n",
              "      <th>3</th>\n",
              "      <td>2</td>\n",
              "      <td>2</td>\n",
              "      <td>3. The Dark Knight (2008)</td>\n",
              "      <td>PG-13</td>\n",
              "      <td>152 min</td>\n",
              "      <td>Action</td>\n",
              "      <td>9.0</td>\n",
              "      <td>84.0</td>\n",
              "      <td>When the menace known as the Joker wreaks havo...</td>\n",
              "      <td>Director: Christopher Nolan | Stars: Christian...</td>\n",
              "      <td>Votes: 2,260,649 | Gross: $534.86M</td>\n",
              "    </tr>\n",
              "    <tr>\n",
              "      <th>4</th>\n",
              "      <td>2</td>\n",
              "      <td>2</td>\n",
              "      <td>3. The Dark Knight (2008)</td>\n",
              "      <td>PG-13</td>\n",
              "      <td>152 min</td>\n",
              "      <td>Crime</td>\n",
              "      <td>9.0</td>\n",
              "      <td>84.0</td>\n",
              "      <td>When the menace known as the Joker wreaks havo...</td>\n",
              "      <td>Director: Christopher Nolan | Stars: Christian...</td>\n",
              "      <td>Votes: 2,260,649 | Gross: $534.86M</td>\n",
              "    </tr>\n",
              "    <tr>\n",
              "      <th>...</th>\n",
              "      <td>...</td>\n",
              "      <td>...</td>\n",
              "      <td>...</td>\n",
              "      <td>...</td>\n",
              "      <td>...</td>\n",
              "      <td>...</td>\n",
              "      <td>...</td>\n",
              "      <td>...</td>\n",
              "      <td>...</td>\n",
              "      <td>...</td>\n",
              "      <td>...</td>\n",
              "    </tr>\n",
              "    <tr>\n",
              "      <th>2503</th>\n",
              "      <td>997</td>\n",
              "      <td>997</td>\n",
              "      <td>400. JFK (1991)</td>\n",
              "      <td>R</td>\n",
              "      <td>189 min</td>\n",
              "      <td>History</td>\n",
              "      <td>8.0</td>\n",
              "      <td>72.0</td>\n",
              "      <td>New Orleans District Attorney Jim Garrison dis...</td>\n",
              "      <td>Director: Oliver Stone | Stars: Kevin Costner,...</td>\n",
              "      <td>Votes: 139,634 | Gross: $70.41M</td>\n",
              "    </tr>\n",
              "    <tr>\n",
              "      <th>2504</th>\n",
              "      <td>997</td>\n",
              "      <td>997</td>\n",
              "      <td>400. JFK (1991)</td>\n",
              "      <td>R</td>\n",
              "      <td>189 min</td>\n",
              "      <td>Thriller</td>\n",
              "      <td>8.0</td>\n",
              "      <td>72.0</td>\n",
              "      <td>New Orleans District Attorney Jim Garrison dis...</td>\n",
              "      <td>Director: Oliver Stone | Stars: Kevin Costner,...</td>\n",
              "      <td>Votes: 139,634 | Gross: $70.41M</td>\n",
              "    </tr>\n",
              "    <tr>\n",
              "      <th>2505</th>\n",
              "      <td>998</td>\n",
              "      <td>998</td>\n",
              "      <td>301. Nights of Cabiria (1957)</td>\n",
              "      <td>Not Rated</td>\n",
              "      <td>110 min</td>\n",
              "      <td>Drama</td>\n",
              "      <td>8.1</td>\n",
              "      <td>NaN</td>\n",
              "      <td>A waifish prostitute wanders the streets of Ro...</td>\n",
              "      <td>Director: Federico Fellini | Stars: Giulietta ...</td>\n",
              "      <td>Votes: 42,160 | Gross: $0.75M</td>\n",
              "    </tr>\n",
              "    <tr>\n",
              "      <th>2506</th>\n",
              "      <td>999</td>\n",
              "      <td>999</td>\n",
              "      <td>302. Throne of Blood (1957)</td>\n",
              "      <td>Not Rated</td>\n",
              "      <td>110 min</td>\n",
              "      <td>Drama</td>\n",
              "      <td>8.1</td>\n",
              "      <td>NaN</td>\n",
              "      <td>A war-hardened general, egged on by his ambiti...</td>\n",
              "      <td>Director: Akira Kurosawa | Stars: Toshirô Mifu...</td>\n",
              "      <td>Votes: 45,579</td>\n",
              "    </tr>\n",
              "    <tr>\n",
              "      <th>2507</th>\n",
              "      <td>999</td>\n",
              "      <td>999</td>\n",
              "      <td>302. Throne of Blood (1957)</td>\n",
              "      <td>Not Rated</td>\n",
              "      <td>110 min</td>\n",
              "      <td>History</td>\n",
              "      <td>8.1</td>\n",
              "      <td>NaN</td>\n",
              "      <td>A war-hardened general, egged on by his ambiti...</td>\n",
              "      <td>Director: Akira Kurosawa | Stars: Toshirô Mifu...</td>\n",
              "      <td>Votes: 45,579</td>\n",
              "    </tr>\n",
              "  </tbody>\n",
              "</table>\n",
              "<p>2508 rows × 11 columns</p>\n",
              "</div>\n",
              "      <button class=\"colab-df-convert\" onclick=\"convertToInteractive('df-8230412d-5434-4c43-babd-66e04b62b7eb')\"\n",
              "              title=\"Convert this dataframe to an interactive table.\"\n",
              "              style=\"display:none;\">\n",
              "        \n",
              "  <svg xmlns=\"http://www.w3.org/2000/svg\" height=\"24px\"viewBox=\"0 0 24 24\"\n",
              "       width=\"24px\">\n",
              "    <path d=\"M0 0h24v24H0V0z\" fill=\"none\"/>\n",
              "    <path d=\"M18.56 5.44l.94 2.06.94-2.06 2.06-.94-2.06-.94-.94-2.06-.94 2.06-2.06.94zm-11 1L8.5 8.5l.94-2.06 2.06-.94-2.06-.94L8.5 2.5l-.94 2.06-2.06.94zm10 10l.94 2.06.94-2.06 2.06-.94-2.06-.94-.94-2.06-.94 2.06-2.06.94z\"/><path d=\"M17.41 7.96l-1.37-1.37c-.4-.4-.92-.59-1.43-.59-.52 0-1.04.2-1.43.59L10.3 9.45l-7.72 7.72c-.78.78-.78 2.05 0 2.83L4 21.41c.39.39.9.59 1.41.59.51 0 1.02-.2 1.41-.59l7.78-7.78 2.81-2.81c.8-.78.8-2.07 0-2.86zM5.41 20L4 18.59l7.72-7.72 1.47 1.35L5.41 20z\"/>\n",
              "  </svg>\n",
              "      </button>\n",
              "      \n",
              "  <style>\n",
              "    .colab-df-container {\n",
              "      display:flex;\n",
              "      flex-wrap:wrap;\n",
              "      gap: 12px;\n",
              "    }\n",
              "\n",
              "    .colab-df-convert {\n",
              "      background-color: #E8F0FE;\n",
              "      border: none;\n",
              "      border-radius: 50%;\n",
              "      cursor: pointer;\n",
              "      display: none;\n",
              "      fill: #1967D2;\n",
              "      height: 32px;\n",
              "      padding: 0 0 0 0;\n",
              "      width: 32px;\n",
              "    }\n",
              "\n",
              "    .colab-df-convert:hover {\n",
              "      background-color: #E2EBFA;\n",
              "      box-shadow: 0px 1px 2px rgba(60, 64, 67, 0.3), 0px 1px 3px 1px rgba(60, 64, 67, 0.15);\n",
              "      fill: #174EA6;\n",
              "    }\n",
              "\n",
              "    [theme=dark] .colab-df-convert {\n",
              "      background-color: #3B4455;\n",
              "      fill: #D2E3FC;\n",
              "    }\n",
              "\n",
              "    [theme=dark] .colab-df-convert:hover {\n",
              "      background-color: #434B5C;\n",
              "      box-shadow: 0px 1px 3px 1px rgba(0, 0, 0, 0.15);\n",
              "      filter: drop-shadow(0px 1px 2px rgba(0, 0, 0, 0.3));\n",
              "      fill: #FFFFFF;\n",
              "    }\n",
              "  </style>\n",
              "\n",
              "      <script>\n",
              "        const buttonEl =\n",
              "          document.querySelector('#df-8230412d-5434-4c43-babd-66e04b62b7eb button.colab-df-convert');\n",
              "        buttonEl.style.display =\n",
              "          google.colab.kernel.accessAllowed ? 'block' : 'none';\n",
              "\n",
              "        async function convertToInteractive(key) {\n",
              "          const element = document.querySelector('#df-8230412d-5434-4c43-babd-66e04b62b7eb');\n",
              "          const dataTable =\n",
              "            await google.colab.kernel.invokeFunction('convertToInteractive',\n",
              "                                                     [key], {});\n",
              "          if (!dataTable) return;\n",
              "\n",
              "          const docLinkHtml = 'Like what you see? Visit the ' +\n",
              "            '<a target=\"_blank\" href=https://colab.research.google.com/notebooks/data_table.ipynb>data table notebook</a>'\n",
              "            + ' to learn more about interactive tables.';\n",
              "          element.innerHTML = '';\n",
              "          dataTable['output_type'] = 'display_data';\n",
              "          await google.colab.output.renderOutput(dataTable, element);\n",
              "          const docLink = document.createElement('div');\n",
              "          docLink.innerHTML = docLinkHtml;\n",
              "          element.appendChild(docLink);\n",
              "        }\n",
              "      </script>\n",
              "    </div>\n",
              "  </div>\n",
              "  "
            ]
          },
          "metadata": {},
          "execution_count": 9
        }
      ]
    },
    {
      "cell_type": "code",
      "source": [
        "df['Genre'] = df['Genre'].str.strip()"
      ],
      "metadata": {
        "id": "NkD4qE-3dR0N"
      },
      "execution_count": null,
      "outputs": []
    },
    {
      "cell_type": "code",
      "source": [
        "df['Genre'].value_counts()"
      ],
      "metadata": {
        "colab": {
          "base_uri": "https://localhost:8080/"
        },
        "id": "FbIrfctZfc0P",
        "outputId": "254b54e3-4923-4fb7-cb72-a992064f60ea"
      },
      "execution_count": null,
      "outputs": [
        {
          "output_type": "execute_result",
          "data": {
            "text/plain": [
              "Drama        728\n",
              "Adventure    211\n",
              "Comedy       208\n",
              "Action       207\n",
              "Crime        176\n",
              "Thriller     165\n",
              "Romance      147\n",
              "Biography    129\n",
              "Mystery      103\n",
              "Animation    100\n",
              "History       66\n",
              "Sci-Fi        63\n",
              "Fantasy       53\n",
              "War           37\n",
              "Family        30\n",
              "Music         28\n",
              "Film-Noir     17\n",
              "Horror        13\n",
              "Musical       12\n",
              "Sport          8\n",
              "Western        7\n",
              "Name: Genre, dtype: int64"
            ]
          },
          "metadata": {},
          "execution_count": 11
        }
      ]
    },
    {
      "cell_type": "code",
      "source": [
        "set_drama = set(df.loc[(df['Genre'] == 'Drama')]['Description'])\n",
        "set_comedy = set(df.loc[df['Genre'] == 'Comedy']['Description'])\n",
        "set_adv = set(df.loc[df['Genre'] == 'Adventure']['Description'])\n",
        "set_action = set(df.loc[df['Genre'] == 'Action']['Description'])\n",
        "set_thr = set(df.loc[df['Genre'] == 'Thriller']['Description'])\n",
        "set_rom = set(df.loc[df['Genre'] == 'Romance']['Description'])\n",
        "set_bio = set(df.loc[df['Genre'] == 'Biography']['Description'])\n",
        "set_mys = set(df.loc[df['Genre'] == 'Mystery']['Description'])\n",
        "set_ani = set(df.loc[df['Genre'] == 'Animation']['Description'])\n",
        "set_his = set(df.loc[df['Genre'] == 'History']['Description'])\n",
        "set_sci =  set(df.loc[df['Genre'] == 'Sci-Fi']['Description'])\n",
        "set_fan = set(df.loc[df['Genre'] == 'Fantasy']['Description'])\n",
        "set_war  = set(df.loc[df['Genre'] == 'War']['Description'])\n",
        "set_fam = set(df.loc[df['Genre'] == 'Family']['Description'])\n",
        "set_ms = set(df.loc[df['Genre'] == 'Music']['Description'])\n",
        "set_fn = set(df.loc[df['Genre'] == 'Comedy']['Description'])\n",
        "set_hor = set(df.loc[df['Genre'] == 'Film-Noir']['Description'])\n",
        "set_mus = set(df.loc[df['Genre'] == 'Musical']['Description'])\n",
        "set_sp = set(df.loc[df['Genre'] == 'Sport']['Description'])\n",
        "set_west = set(df.loc[df['Genre'] == 'Western']['Description'])"
      ],
      "metadata": {
        "id": "roFHTfif2s9b"
      },
      "execution_count": null,
      "outputs": []
    },
    {
      "cell_type": "code",
      "source": [
        "set_list = [\n",
        "    set_drama, \n",
        "    set_comedy, \n",
        "    set_adv, \n",
        "    set_action, \n",
        "    set_thr, \n",
        "    set_rom, \n",
        "    set_bio, \n",
        "    set_mys, \n",
        "    set_ani, \n",
        "    set_his, \n",
        "    set_sci, \n",
        "    set_fan,\n",
        "    set_war, \n",
        "    set_fam,\n",
        "    set_ms, \n",
        "    set_fn,\n",
        "    set_hor,\n",
        "    set_mus,\n",
        "    set_sp,\n",
        "    set_west\n",
        "    ]"
      ],
      "metadata": {
        "id": "aGP1iiVWo2sE"
      },
      "execution_count": null,
      "outputs": []
    },
    {
      "cell_type": "code",
      "source": [
        "# True Cardinality is 398\n",
        "def kmin (k,s = None):\n",
        "  hashed = []\n",
        "\n",
        "  for d in df['Description']:\n",
        "    hashed.append(seededHash(d,s))\n",
        "    \n",
        "  hashed.sort() \n",
        "  min = hashed[k]\n",
        "\n",
        "  return min\n",
        "\n",
        "def estimateN (k,min):\n",
        "    if min != 0:\n",
        "      N = (k/min) - 1\n",
        "\n",
        "      return N\n"
      ],
      "metadata": {
        "id": "SoM--vIhKURB"
      },
      "execution_count": null,
      "outputs": []
    },
    {
      "cell_type": "code",
      "source": [
        "m_vals = []\n",
        "count = 0\n",
        "\n",
        "estimates = []\n",
        "#while count < 1000:\n",
        "\n",
        "  \n",
        "for i in range(100, 1100, 100):\n",
        "  m_val = kmin(10,277)\n",
        "  m_vals.append(m_val)\n",
        "\n",
        "\n",
        "print(estimateN(100 ,m_vals[0]))\n",
        "\n"
      ],
      "metadata": {
        "colab": {
          "base_uri": "https://localhost:8080/"
        },
        "id": "ptf7M_XKWoUp",
        "outputId": "d3187530-529f-47fa-cb06-9c6d33d2245a"
      },
      "execution_count": null,
      "outputs": [
        {
          "output_type": "stream",
          "name": "stdout",
          "text": [
            "-1.0000000470219568\n"
          ]
        }
      ]
    },
    {
      "cell_type": "markdown",
      "source": [
        "### Justification for M (the number of bits to give to the filter)\n",
        "\n",
        "As we learned in class, there is an equation that can help us determine the optimal parameters to create the best possible filter. This equation is:\n",
        "\n",
        "$k^* = ln 2$ * $(m/n)$\n",
        "\n",
        "There are already two parameters given to us. The number of hashes (2) and the number of items we are hashing which is around 2,508 items. When plugging it into the equation we can figure out that:\n",
        "\n",
        "2 = ln 2 * (m/2508)\n",
        "\n",
        "m $\\approx$ 7236.55 $\\approx$ 7237 or 7237 bits\n"
      ],
      "metadata": {
        "id": "Vr6vasVhbbgL"
      }
    },
    {
      "cell_type": "markdown",
      "source": [
        "### Justification for K\n",
        " When calculating the Jaccard coefficients for the the set, all of them stopped growing after K = 201 (I checked this with other sets but in the interest of time I cannot demonstrate it with a graph.) Therefore any K's bigger than 201 would not improve the jaccard coefficient.\n"
      ],
      "metadata": {
        "id": "j7phemB7slrA"
      }
    },
    {
      "cell_type": "code",
      "source": [
        "for j in range(1,1100, 100):\n",
        "  a = minHash(set_drama,j, seed = 0)\n",
        "  b = minHash(set_comedy, j, seed = 0)\n",
        "  print(jaccard(a,b))\n",
        "  print(j)"
      ],
      "metadata": {
        "colab": {
          "base_uri": "https://localhost:8080/"
        },
        "id": "-4jvz6QNAENC",
        "outputId": "2a0e2397-9be5-4767-c234-cdc69ce16594"
      },
      "execution_count": 178,
      "outputs": [
        {
          "output_type": "stream",
          "name": "stdout",
          "text": [
            "0.0\n",
            "1\n",
            "0.06626506024096386\n",
            "101\n",
            "0.0992063492063492\n",
            "201\n",
            "0.11572700296735905\n",
            "301\n",
            "0.11572700296735905\n",
            "401\n",
            "0.11572700296735905\n",
            "501\n",
            "0.11572700296735905\n",
            "601\n",
            "0.11572700296735905\n",
            "701\n",
            "0.11572700296735905\n",
            "801\n",
            "0.11572700296735905\n",
            "901\n",
            "0.11572700296735905\n",
            "1001\n"
          ]
        }
      ]
    },
    {
      "cell_type": "code",
      "source": [
        " def minHash(inSet, k, seed=None):\n",
        "    hashed = []\n",
        "    \n",
        "    for val in inSet:\n",
        "        hashed.append(seededHash(val,seed))\n",
        "    h = hashed.sort()\n",
        "    h_f = hashed[:k]\n",
        "    \n",
        "    return set(h_f)"
      ],
      "metadata": {
        "id": "-snptVJVwqf_"
      },
      "execution_count": null,
      "outputs": []
    },
    {
      "cell_type": "markdown",
      "source": [
        "### Minhash"
      ],
      "metadata": {
        "id": "nqJFFp9gDINu"
      }
    },
    {
      "cell_type": "code",
      "source": [
        "mh1 = minHash(set_drama, 201, seed = 0)\n",
        "mh2 = minHash(set_adv, 201, seed = 0)\n",
        "mh3 = minHash(set_thr, 201, seed = 0)\n",
        "mh4 = minHash(set_action, 201, seed = 0)\n",
        "mh5 = minHash(set_comedy, 201, seed = 0)\n",
        "l = [mh1, mh2, mh3, mh4, mh5]"
      ],
      "metadata": {
        "id": "YhLPwUZhBtjh"
      },
      "execution_count": 182,
      "outputs": []
    },
    {
      "cell_type": "code",
      "source": [
        "j = []\n",
        "for i in l:\n",
        "  print('i:', i)\n",
        "  for j in l:\n",
        "    print('j:', j)\n",
        "    print(jaccard(i,j))"
      ],
      "metadata": {
        "colab": {
          "base_uri": "https://localhost:8080/"
        },
        "id": "WR_XvwmkDRwv",
        "outputId": "c4863c4c-a0da-4c36-c1b0-12b6609216a9"
      },
      "execution_count": 183,
      "outputs": [
        {
          "output_type": "stream",
          "name": "stdout",
          "text": [
            "i: {-332525566, -1995577852, -420240380, -1812995065, -513687032, -961597943, 319229968, -1901672431, -2123672045, -1752586733, -510713837, -1887161321, -1641628645, -1214758884, 4712987, 311036955, -1980956638, -1122827229, -1320118235, -1397903320, -1718089171, -1932550608, -890527180, 683351102, -459993025, 496170054, -1437271480, -1138452400, -916270511, -1976365486, 668830807, -1603570596, -605313444, -982240672, -1151486879, -1747104670, -583141276, 562126437, -265542550, -1428997011, -386891667, -393375121, -184863122, -204513165, -1522330506, -1913882500, -683014530, 14187135, -792574336, 541706366, -1262816118, 446689419, -1158368113, -126956913, -1580008302, -452134765, 396908691, 6361749, -763306346, -641146218, -506883434, -370528102, -2010277221, -1845255009, 266998944, 85954211, -254995796, -1861809489, -2047192911, -212659020, -246996807, -1030179654, -1754083653, 403696831, 756477124, 446019782, 44321479, -455330612, -238043441, -1575617327, -1570008366, -896359211, -1622693674, -644524835, -712022816, -1730617115, -925969178, -85068057, -1322556181, 406527725, -340688656, 409005809, -665843980, -1898667271, 19488512, 568736514, -128898301, 516779783, 486382856, -1973392113, -12273905, 79169295, -640388841, 252630808, -497335526, 649509146, -524247780, -1113655520, -772691676, -1397664469, -1829817044, -1388650707, -689452245, -1528467665, -306693332, 272511790, -1782513866, -975904967, -1204186819, -1895727808, -1315348671, 176378688, -673062589, -366743227, 447562568, -1499007670, -2045052597, 171391315, -1627141802, -1961049769, -1410234026, -482848425, 65415510, -2131137187, 399482206, -1404716193, -632956570, -1954362007, -1816102039, -917298327, -1876696724, -245933207, 173689705, -759944849, -1885513360, 189359984, -724299917, -1452297348, -537883268, -1396663933, -2145484920, 556622217, -726155890, -2077401711, -1795267695, 453127570, -989485164, -695708266, 368709017, -13245539, -786035298, -1840419928, 518812586, 373905332, -968578123, 515008948, -1274027080, -1218682439, 1207737, -1094640197, -55811139, 564615102, -647636545, -796156477, -1671887418, -694254134, -130843188, -1111342643, -1086987311, -313924648, -788282916, -634697252, -2033654306, -705659425, 127724000, 264490465, -628869661, -1670059548, -426996765, 551678437, -1600120857, 743786986, -1474053141, 555898867, -2047008267, -192410635, 104520693, 717746168, 198382075, -734008835, -572335617}\n",
            "j: {-332525566, -1995577852, -420240380, -1812995065, -513687032, -961597943, 319229968, -1901672431, -2123672045, -1752586733, -510713837, -1887161321, -1641628645, -1214758884, 4712987, 311036955, -1980956638, -1122827229, -1320118235, -1397903320, -1718089171, -1932550608, -890527180, 683351102, -459993025, 496170054, -1437271480, -1138452400, -916270511, -1976365486, 668830807, -1603570596, -605313444, -982240672, -1151486879, -1747104670, -583141276, 562126437, -265542550, -1428997011, -386891667, -393375121, -184863122, -204513165, -1522330506, -1913882500, -683014530, 14187135, -792574336, 541706366, -1262816118, 446689419, -1158368113, -126956913, -1580008302, -452134765, 396908691, 6361749, -763306346, -641146218, -506883434, -370528102, -2010277221, -1845255009, 266998944, 85954211, -254995796, -1861809489, -2047192911, -212659020, -246996807, -1030179654, -1754083653, 403696831, 756477124, 446019782, 44321479, -455330612, -238043441, -1575617327, -1570008366, -896359211, -1622693674, -644524835, -712022816, -1730617115, -925969178, -85068057, -1322556181, 406527725, -340688656, 409005809, -665843980, -1898667271, 19488512, 568736514, -128898301, 516779783, 486382856, -1973392113, -12273905, 79169295, -640388841, 252630808, -497335526, 649509146, -524247780, -1113655520, -772691676, -1397664469, -1829817044, -1388650707, -689452245, -1528467665, -306693332, 272511790, -1782513866, -975904967, -1204186819, -1895727808, -1315348671, 176378688, -673062589, -366743227, 447562568, -1499007670, -2045052597, 171391315, -1627141802, -1961049769, -1410234026, -482848425, 65415510, -2131137187, 399482206, -1404716193, -632956570, -1954362007, -1816102039, -917298327, -1876696724, -245933207, 173689705, -759944849, -1885513360, 189359984, -724299917, -1452297348, -537883268, -1396663933, -2145484920, 556622217, -726155890, -2077401711, -1795267695, 453127570, -989485164, -695708266, 368709017, -13245539, -786035298, -1840419928, 518812586, 373905332, -968578123, 515008948, -1274027080, -1218682439, 1207737, -1094640197, -55811139, 564615102, -647636545, -796156477, -1671887418, -694254134, -130843188, -1111342643, -1086987311, -313924648, -788282916, -634697252, -2033654306, -705659425, 127724000, 264490465, -628869661, -1670059548, -426996765, 551678437, -1600120857, 743786986, -1474053141, 555898867, -2047008267, -192410635, 104520693, 717746168, 198382075, -734008835, -572335617}\n",
            "1.0\n",
            "j: {-535655405, -91494374, 880839714, 449181736, -1508762062, -392447947, -25297849, -1437271480, -1932772277, 1243397715, -1831448989, -386891667, -204513165, 850790003, -792574336, -126956913, -1525551472, -506883434, -370528102, -1845255009, -1049900897, 1079451807, -470063453, 1921964217, 1640234172, -1718440249, -455330612, -1575617327, -1570008366, 1125942995, -1365213477, 1135589094, -85068057, -1212772091, -1292105447, -1113655520, 712712494, 1616550192, -789460175, 554782515, -1204186819, -1309829310, 1302688590, 561834846, -33451169, -1616024223, 994339682, 900794743, 1313555833, -46672006, -1452297348, 1372144512, 679458699, 1016238477, -33884265, -967907432, -355227238, 1632739740, 359948702, -994950751, 1143529907, 179782071, 1182852024, -1094640197, -647636545, 1005539775, 2060106176, 817330117, 2055835083, -2012064808, -246366754, 1082533858, -1670059548, 1354549733, -575442457, 325776365, 104520693, 717746168, -734008835}\n",
            "0.08108108108108109\n",
            "j: {756454400, 874809345, 568736514, -1995577852, 1996308102, 1598157451, -2146610548, -726155890, 1457564686, -1901672431, 6361749, -641146218, 1836687125, 2064263833, -741308261, -1214758884, -1845255009, -1122827229, 1770351782, 850458667, 1640853805, 1892997677, 1471245496, 658718266, 792147260, 403696831, -1690526270, 44321479, 447562568, 482328906, -238043441, -1575617327, -1976365486, -2012064808, 1714983259, -1603570596, 1949727068, -2033654306, 55424735, 868390623, 1905401442, -1747104670, -628869661, 512817379, 766671331, -925969178, -632956570, -575442457, -1816102039, 1501215207, 1691855463, -184863122, 321137520, -822303111, 1823676154, 375861115, -734008835}\n",
            "0.10256410256410256\n",
            "j: {-1995577852, -420240380, -961597943, 679458699, 1016238477, 1613105037, 79169295, -1525551472, 1395836175, -2123672045, -763306346, -671294954, -967907432, -1292105447, -91494374, -741308261, -33884265, 252630808, 359948702, 368709017, 1185391645, 2064263833, 880839714, 1352692389, 1962037159, 2063249962, 712712494, 554782515, 1041331763, 1654954678, 179782071, 1182852024, 1471245496, 658718266, 792147260, -1204186819, -889680450, -647636545, -273834945, 176378688, -1309829310, 1005539775, 1102650336, 1175200835, 1529961155, -1718440249, -1437271480, -25297849, -1932772277, 1302688590, 1824010064, 1125942995, -2012064808, 1714983259, -982240672, -1616024223, 264490465, -1831448989, 512817379, 551678437, 600223072, -85068057, 994339682, 1082533858, -1322556181, 1798376813, 321137520, 939783153, -1283367437, -204513165, -2047008267, 576834804, 1188763508, 1313555833, -683014530}\n",
            "0.078125\n",
            "j: {180732545, 568736514, -128898301, -1212772091, 486382856, 413926281, -1525551472, -278415983, -535655405, -510713837, 396908691, -671294954, 1183263255, 1078036504, 2074037913, -355227238, -994950751, -1122827229, -470063453, 950584740, 1962037159, 449181736, 1648241448, 370684330, -789460175, -1508762062, 1041331763, 373905332, 556432565, 1699514292, 179782071, -1539810888, -975904967, -1094640197, 864180155, -273834945, 2060106176, 1670574657, -1329733308, 817330117, -1671887418, -25297849, -1499007670, 1175341263, -1138452400, -1086987311, -916270511, 1243397715, 1827690582, 668830807, -313924648, -1365213477, 2145062747, 561834846, -33451169, -1916726816, 127724000, 1082533858, -1831448989, 1432042466, -1730617115, -917298327, 173689705, 2099154539, -1428997011, 406527725, -1558020241, 189359984, 1180832241, 1309784943, 353521267, 555898867, -192410635, 1188763508, 900794743, 1373151344}\n",
            "0.0992063492063492\n",
            "i: {-535655405, -91494374, 880839714, 449181736, -1508762062, -392447947, -25297849, -1437271480, -1932772277, 1243397715, -1831448989, -386891667, -204513165, 850790003, -792574336, -126956913, -1525551472, -506883434, -370528102, -1845255009, -1049900897, 1079451807, -470063453, 1921964217, 1640234172, -1718440249, -455330612, -1575617327, -1570008366, 1125942995, -1365213477, 1135589094, -85068057, -1212772091, -1292105447, -1113655520, 712712494, 1616550192, -789460175, 554782515, -1204186819, -1309829310, 1302688590, 561834846, -33451169, -1616024223, 994339682, 900794743, 1313555833, -46672006, -1452297348, 1372144512, 679458699, 1016238477, -33884265, -967907432, -355227238, 1632739740, 359948702, -994950751, 1143529907, 179782071, 1182852024, -1094640197, -647636545, 1005539775, 2060106176, 817330117, 2055835083, -2012064808, -246366754, 1082533858, -1670059548, 1354549733, -575442457, 325776365, 104520693, 717746168, -734008835}\n",
            "j: {-332525566, -1995577852, -420240380, -1812995065, -513687032, -961597943, 319229968, -1901672431, -2123672045, -1752586733, -510713837, -1887161321, -1641628645, -1214758884, 4712987, 311036955, -1980956638, -1122827229, -1320118235, -1397903320, -1718089171, -1932550608, -890527180, 683351102, -459993025, 496170054, -1437271480, -1138452400, -916270511, -1976365486, 668830807, -1603570596, -605313444, -982240672, -1151486879, -1747104670, -583141276, 562126437, -265542550, -1428997011, -386891667, -393375121, -184863122, -204513165, -1522330506, -1913882500, -683014530, 14187135, -792574336, 541706366, -1262816118, 446689419, -1158368113, -126956913, -1580008302, -452134765, 396908691, 6361749, -763306346, -641146218, -506883434, -370528102, -2010277221, -1845255009, 266998944, 85954211, -254995796, -1861809489, -2047192911, -212659020, -246996807, -1030179654, -1754083653, 403696831, 756477124, 446019782, 44321479, -455330612, -238043441, -1575617327, -1570008366, -896359211, -1622693674, -644524835, -712022816, -1730617115, -925969178, -85068057, -1322556181, 406527725, -340688656, 409005809, -665843980, -1898667271, 19488512, 568736514, -128898301, 516779783, 486382856, -1973392113, -12273905, 79169295, -640388841, 252630808, -497335526, 649509146, -524247780, -1113655520, -772691676, -1397664469, -1829817044, -1388650707, -689452245, -1528467665, -306693332, 272511790, -1782513866, -975904967, -1204186819, -1895727808, -1315348671, 176378688, -673062589, -366743227, 447562568, -1499007670, -2045052597, 171391315, -1627141802, -1961049769, -1410234026, -482848425, 65415510, -2131137187, 399482206, -1404716193, -632956570, -1954362007, -1816102039, -917298327, -1876696724, -245933207, 173689705, -759944849, -1885513360, 189359984, -724299917, -1452297348, -537883268, -1396663933, -2145484920, 556622217, -726155890, -2077401711, -1795267695, 453127570, -989485164, -695708266, 368709017, -13245539, -786035298, -1840419928, 518812586, 373905332, -968578123, 515008948, -1274027080, -1218682439, 1207737, -1094640197, -55811139, 564615102, -647636545, -796156477, -1671887418, -694254134, -130843188, -1111342643, -1086987311, -313924648, -788282916, -634697252, -2033654306, -705659425, 127724000, 264490465, -628869661, -1670059548, -426996765, 551678437, -1600120857, 743786986, -1474053141, 555898867, -2047008267, -192410635, 104520693, 717746168, 198382075, -734008835, -572335617}\n",
            "0.08108108108108109\n",
            "j: {-535655405, -91494374, 880839714, 449181736, -1508762062, -392447947, -25297849, -1437271480, -1932772277, 1243397715, -1831448989, -386891667, -204513165, 850790003, -792574336, -126956913, -1525551472, -506883434, -370528102, -1845255009, -1049900897, 1079451807, -470063453, 1921964217, 1640234172, -1718440249, -455330612, -1575617327, -1570008366, 1125942995, -1365213477, 1135589094, -85068057, -1212772091, -1292105447, -1113655520, 712712494, 1616550192, -789460175, 554782515, -1204186819, -1309829310, 1302688590, 561834846, -33451169, -1616024223, 994339682, 900794743, 1313555833, -46672006, -1452297348, 1372144512, 679458699, 1016238477, -33884265, -967907432, -355227238, 1632739740, 359948702, -994950751, 1143529907, 179782071, 1182852024, -1094640197, -647636545, 1005539775, 2060106176, 817330117, 2055835083, -2012064808, -246366754, 1082533858, -1670059548, 1354549733, -575442457, 325776365, 104520693, 717746168, -734008835}\n",
            "1.0\n",
            "j: {756454400, 874809345, 568736514, -1995577852, 1996308102, 1598157451, -2146610548, -726155890, 1457564686, -1901672431, 6361749, -641146218, 1836687125, 2064263833, -741308261, -1214758884, -1845255009, -1122827229, 1770351782, 850458667, 1640853805, 1892997677, 1471245496, 658718266, 792147260, 403696831, -1690526270, 44321479, 447562568, 482328906, -238043441, -1575617327, -1976365486, -2012064808, 1714983259, -1603570596, 1949727068, -2033654306, 55424735, 868390623, 1905401442, -1747104670, -628869661, 512817379, 766671331, -925969178, -632956570, -575442457, -1816102039, 1501215207, 1691855463, -184863122, 321137520, -822303111, 1823676154, 375861115, -734008835}\n",
            "0.03816793893129771\n",
            "j: {-1995577852, -420240380, -961597943, 679458699, 1016238477, 1613105037, 79169295, -1525551472, 1395836175, -2123672045, -763306346, -671294954, -967907432, -1292105447, -91494374, -741308261, -33884265, 252630808, 359948702, 368709017, 1185391645, 2064263833, 880839714, 1352692389, 1962037159, 2063249962, 712712494, 554782515, 1041331763, 1654954678, 179782071, 1182852024, 1471245496, 658718266, 792147260, -1204186819, -889680450, -647636545, -273834945, 176378688, -1309829310, 1005539775, 1102650336, 1175200835, 1529961155, -1718440249, -1437271480, -25297849, -1932772277, 1302688590, 1824010064, 1125942995, -2012064808, 1714983259, -982240672, -1616024223, 264490465, -1831448989, 512817379, 551678437, 600223072, -85068057, 994339682, 1082533858, -1322556181, 1798376813, 321137520, 939783153, -1283367437, -204513165, -2047008267, 576834804, 1188763508, 1313555833, -683014530}\n",
            "0.25203252032520324\n",
            "j: {180732545, 568736514, -128898301, -1212772091, 486382856, 413926281, -1525551472, -278415983, -535655405, -510713837, 396908691, -671294954, 1183263255, 1078036504, 2074037913, -355227238, -994950751, -1122827229, -470063453, 950584740, 1962037159, 449181736, 1648241448, 370684330, -789460175, -1508762062, 1041331763, 373905332, 556432565, 1699514292, 179782071, -1539810888, -975904967, -1094640197, 864180155, -273834945, 2060106176, 1670574657, -1329733308, 817330117, -1671887418, -25297849, -1499007670, 1175341263, -1138452400, -1086987311, -916270511, 1243397715, 1827690582, 668830807, -313924648, -1365213477, 2145062747, 561834846, -33451169, -1916726816, 127724000, 1082533858, -1831448989, 1432042466, -1730617115, -917298327, 173689705, 2099154539, -1428997011, 406527725, -1558020241, 189359984, 1180832241, 1309784943, 353521267, 555898867, -192410635, 1188763508, 900794743, 1373151344}\n",
            "0.15671641791044777\n",
            "i: {756454400, 874809345, 568736514, -1995577852, 1996308102, 1598157451, -2146610548, -726155890, 1457564686, -1901672431, 6361749, -641146218, 1836687125, 2064263833, -741308261, -1214758884, -1845255009, -1122827229, 1770351782, 850458667, 1640853805, 1892997677, 1471245496, 658718266, 792147260, 403696831, -1690526270, 44321479, 447562568, 482328906, -238043441, -1575617327, -1976365486, -2012064808, 1714983259, -1603570596, 1949727068, -2033654306, 55424735, 868390623, 1905401442, -1747104670, -628869661, 512817379, 766671331, -925969178, -632956570, -575442457, -1816102039, 1501215207, 1691855463, -184863122, 321137520, -822303111, 1823676154, 375861115, -734008835}\n",
            "j: {-332525566, -1995577852, -420240380, -1812995065, -513687032, -961597943, 319229968, -1901672431, -2123672045, -1752586733, -510713837, -1887161321, -1641628645, -1214758884, 4712987, 311036955, -1980956638, -1122827229, -1320118235, -1397903320, -1718089171, -1932550608, -890527180, 683351102, -459993025, 496170054, -1437271480, -1138452400, -916270511, -1976365486, 668830807, -1603570596, -605313444, -982240672, -1151486879, -1747104670, -583141276, 562126437, -265542550, -1428997011, -386891667, -393375121, -184863122, -204513165, -1522330506, -1913882500, -683014530, 14187135, -792574336, 541706366, -1262816118, 446689419, -1158368113, -126956913, -1580008302, -452134765, 396908691, 6361749, -763306346, -641146218, -506883434, -370528102, -2010277221, -1845255009, 266998944, 85954211, -254995796, -1861809489, -2047192911, -212659020, -246996807, -1030179654, -1754083653, 403696831, 756477124, 446019782, 44321479, -455330612, -238043441, -1575617327, -1570008366, -896359211, -1622693674, -644524835, -712022816, -1730617115, -925969178, -85068057, -1322556181, 406527725, -340688656, 409005809, -665843980, -1898667271, 19488512, 568736514, -128898301, 516779783, 486382856, -1973392113, -12273905, 79169295, -640388841, 252630808, -497335526, 649509146, -524247780, -1113655520, -772691676, -1397664469, -1829817044, -1388650707, -689452245, -1528467665, -306693332, 272511790, -1782513866, -975904967, -1204186819, -1895727808, -1315348671, 176378688, -673062589, -366743227, 447562568, -1499007670, -2045052597, 171391315, -1627141802, -1961049769, -1410234026, -482848425, 65415510, -2131137187, 399482206, -1404716193, -632956570, -1954362007, -1816102039, -917298327, -1876696724, -245933207, 173689705, -759944849, -1885513360, 189359984, -724299917, -1452297348, -537883268, -1396663933, -2145484920, 556622217, -726155890, -2077401711, -1795267695, 453127570, -989485164, -695708266, 368709017, -13245539, -786035298, -1840419928, 518812586, 373905332, -968578123, 515008948, -1274027080, -1218682439, 1207737, -1094640197, -55811139, 564615102, -647636545, -796156477, -1671887418, -694254134, -130843188, -1111342643, -1086987311, -313924648, -788282916, -634697252, -2033654306, -705659425, 127724000, 264490465, -628869661, -1670059548, -426996765, 551678437, -1600120857, 743786986, -1474053141, 555898867, -2047008267, -192410635, 104520693, 717746168, 198382075, -734008835, -572335617}\n",
            "0.10256410256410256\n",
            "j: {-535655405, -91494374, 880839714, 449181736, -1508762062, -392447947, -25297849, -1437271480, -1932772277, 1243397715, -1831448989, -386891667, -204513165, 850790003, -792574336, -126956913, -1525551472, -506883434, -370528102, -1845255009, -1049900897, 1079451807, -470063453, 1921964217, 1640234172, -1718440249, -455330612, -1575617327, -1570008366, 1125942995, -1365213477, 1135589094, -85068057, -1212772091, -1292105447, -1113655520, 712712494, 1616550192, -789460175, 554782515, -1204186819, -1309829310, 1302688590, 561834846, -33451169, -1616024223, 994339682, 900794743, 1313555833, -46672006, -1452297348, 1372144512, 679458699, 1016238477, -33884265, -967907432, -355227238, 1632739740, 359948702, -994950751, 1143529907, 179782071, 1182852024, -1094640197, -647636545, 1005539775, 2060106176, 817330117, 2055835083, -2012064808, -246366754, 1082533858, -1670059548, 1354549733, -575442457, 325776365, 104520693, 717746168, -734008835}\n",
            "0.03816793893129771\n",
            "j: {756454400, 874809345, 568736514, -1995577852, 1996308102, 1598157451, -2146610548, -726155890, 1457564686, -1901672431, 6361749, -641146218, 1836687125, 2064263833, -741308261, -1214758884, -1845255009, -1122827229, 1770351782, 850458667, 1640853805, 1892997677, 1471245496, 658718266, 792147260, 403696831, -1690526270, 44321479, 447562568, 482328906, -238043441, -1575617327, -1976365486, -2012064808, 1714983259, -1603570596, 1949727068, -2033654306, 55424735, 868390623, 1905401442, -1747104670, -628869661, 512817379, 766671331, -925969178, -632956570, -575442457, -1816102039, 1501215207, 1691855463, -184863122, 321137520, -822303111, 1823676154, 375861115, -734008835}\n",
            "1.0\n",
            "j: {-1995577852, -420240380, -961597943, 679458699, 1016238477, 1613105037, 79169295, -1525551472, 1395836175, -2123672045, -763306346, -671294954, -967907432, -1292105447, -91494374, -741308261, -33884265, 252630808, 359948702, 368709017, 1185391645, 2064263833, 880839714, 1352692389, 1962037159, 2063249962, 712712494, 554782515, 1041331763, 1654954678, 179782071, 1182852024, 1471245496, 658718266, 792147260, -1204186819, -889680450, -647636545, -273834945, 176378688, -1309829310, 1005539775, 1102650336, 1175200835, 1529961155, -1718440249, -1437271480, -25297849, -1932772277, 1302688590, 1824010064, 1125942995, -2012064808, 1714983259, -982240672, -1616024223, 264490465, -1831448989, 512817379, 551678437, 600223072, -85068057, 994339682, 1082533858, -1322556181, 1798376813, 321137520, 939783153, -1283367437, -204513165, -2047008267, 576834804, 1188763508, 1313555833, -683014530}\n",
            "0.08196721311475409\n",
            "j: {180732545, 568736514, -128898301, -1212772091, 486382856, 413926281, -1525551472, -278415983, -535655405, -510713837, 396908691, -671294954, 1183263255, 1078036504, 2074037913, -355227238, -994950751, -1122827229, -470063453, 950584740, 1962037159, 449181736, 1648241448, 370684330, -789460175, -1508762062, 1041331763, 373905332, 556432565, 1699514292, 179782071, -1539810888, -975904967, -1094640197, 864180155, -273834945, 2060106176, 1670574657, -1329733308, 817330117, -1671887418, -25297849, -1499007670, 1175341263, -1138452400, -1086987311, -916270511, 1243397715, 1827690582, 668830807, -313924648, -1365213477, 2145062747, 561834846, -33451169, -1916726816, 127724000, 1082533858, -1831448989, 1432042466, -1730617115, -917298327, 173689705, 2099154539, -1428997011, 406527725, -1558020241, 189359984, 1180832241, 1309784943, 353521267, 555898867, -192410635, 1188763508, 900794743, 1373151344}\n",
            "0.015267175572519083\n",
            "i: {-1995577852, -420240380, -961597943, 679458699, 1016238477, 1613105037, 79169295, -1525551472, 1395836175, -2123672045, -763306346, -671294954, -967907432, -1292105447, -91494374, -741308261, -33884265, 252630808, 359948702, 368709017, 1185391645, 2064263833, 880839714, 1352692389, 1962037159, 2063249962, 712712494, 554782515, 1041331763, 1654954678, 179782071, 1182852024, 1471245496, 658718266, 792147260, -1204186819, -889680450, -647636545, -273834945, 176378688, -1309829310, 1005539775, 1102650336, 1175200835, 1529961155, -1718440249, -1437271480, -25297849, -1932772277, 1302688590, 1824010064, 1125942995, -2012064808, 1714983259, -982240672, -1616024223, 264490465, -1831448989, 512817379, 551678437, 600223072, -85068057, 994339682, 1082533858, -1322556181, 1798376813, 321137520, 939783153, -1283367437, -204513165, -2047008267, 576834804, 1188763508, 1313555833, -683014530}\n",
            "j: {-332525566, -1995577852, -420240380, -1812995065, -513687032, -961597943, 319229968, -1901672431, -2123672045, -1752586733, -510713837, -1887161321, -1641628645, -1214758884, 4712987, 311036955, -1980956638, -1122827229, -1320118235, -1397903320, -1718089171, -1932550608, -890527180, 683351102, -459993025, 496170054, -1437271480, -1138452400, -916270511, -1976365486, 668830807, -1603570596, -605313444, -982240672, -1151486879, -1747104670, -583141276, 562126437, -265542550, -1428997011, -386891667, -393375121, -184863122, -204513165, -1522330506, -1913882500, -683014530, 14187135, -792574336, 541706366, -1262816118, 446689419, -1158368113, -126956913, -1580008302, -452134765, 396908691, 6361749, -763306346, -641146218, -506883434, -370528102, -2010277221, -1845255009, 266998944, 85954211, -254995796, -1861809489, -2047192911, -212659020, -246996807, -1030179654, -1754083653, 403696831, 756477124, 446019782, 44321479, -455330612, -238043441, -1575617327, -1570008366, -896359211, -1622693674, -644524835, -712022816, -1730617115, -925969178, -85068057, -1322556181, 406527725, -340688656, 409005809, -665843980, -1898667271, 19488512, 568736514, -128898301, 516779783, 486382856, -1973392113, -12273905, 79169295, -640388841, 252630808, -497335526, 649509146, -524247780, -1113655520, -772691676, -1397664469, -1829817044, -1388650707, -689452245, -1528467665, -306693332, 272511790, -1782513866, -975904967, -1204186819, -1895727808, -1315348671, 176378688, -673062589, -366743227, 447562568, -1499007670, -2045052597, 171391315, -1627141802, -1961049769, -1410234026, -482848425, 65415510, -2131137187, 399482206, -1404716193, -632956570, -1954362007, -1816102039, -917298327, -1876696724, -245933207, 173689705, -759944849, -1885513360, 189359984, -724299917, -1452297348, -537883268, -1396663933, -2145484920, 556622217, -726155890, -2077401711, -1795267695, 453127570, -989485164, -695708266, 368709017, -13245539, -786035298, -1840419928, 518812586, 373905332, -968578123, 515008948, -1274027080, -1218682439, 1207737, -1094640197, -55811139, 564615102, -647636545, -796156477, -1671887418, -694254134, -130843188, -1111342643, -1086987311, -313924648, -788282916, -634697252, -2033654306, -705659425, 127724000, 264490465, -628869661, -1670059548, -426996765, 551678437, -1600120857, 743786986, -1474053141, 555898867, -2047008267, -192410635, 104520693, 717746168, 198382075, -734008835, -572335617}\n",
            "0.078125\n",
            "j: {-535655405, -91494374, 880839714, 449181736, -1508762062, -392447947, -25297849, -1437271480, -1932772277, 1243397715, -1831448989, -386891667, -204513165, 850790003, -792574336, -126956913, -1525551472, -506883434, -370528102, -1845255009, -1049900897, 1079451807, -470063453, 1921964217, 1640234172, -1718440249, -455330612, -1575617327, -1570008366, 1125942995, -1365213477, 1135589094, -85068057, -1212772091, -1292105447, -1113655520, 712712494, 1616550192, -789460175, 554782515, -1204186819, -1309829310, 1302688590, 561834846, -33451169, -1616024223, 994339682, 900794743, 1313555833, -46672006, -1452297348, 1372144512, 679458699, 1016238477, -33884265, -967907432, -355227238, 1632739740, 359948702, -994950751, 1143529907, 179782071, 1182852024, -1094640197, -647636545, 1005539775, 2060106176, 817330117, 2055835083, -2012064808, -246366754, 1082533858, -1670059548, 1354549733, -575442457, 325776365, 104520693, 717746168, -734008835}\n",
            "0.25203252032520324\n",
            "j: {756454400, 874809345, 568736514, -1995577852, 1996308102, 1598157451, -2146610548, -726155890, 1457564686, -1901672431, 6361749, -641146218, 1836687125, 2064263833, -741308261, -1214758884, -1845255009, -1122827229, 1770351782, 850458667, 1640853805, 1892997677, 1471245496, 658718266, 792147260, 403696831, -1690526270, 44321479, 447562568, 482328906, -238043441, -1575617327, -1976365486, -2012064808, 1714983259, -1603570596, 1949727068, -2033654306, 55424735, 868390623, 1905401442, -1747104670, -628869661, 512817379, 766671331, -925969178, -632956570, -575442457, -1816102039, 1501215207, 1691855463, -184863122, 321137520, -822303111, 1823676154, 375861115, -734008835}\n",
            "0.08196721311475409\n",
            "j: {-1995577852, -420240380, -961597943, 679458699, 1016238477, 1613105037, 79169295, -1525551472, 1395836175, -2123672045, -763306346, -671294954, -967907432, -1292105447, -91494374, -741308261, -33884265, 252630808, 359948702, 368709017, 1185391645, 2064263833, 880839714, 1352692389, 1962037159, 2063249962, 712712494, 554782515, 1041331763, 1654954678, 179782071, 1182852024, 1471245496, 658718266, 792147260, -1204186819, -889680450, -647636545, -273834945, 176378688, -1309829310, 1005539775, 1102650336, 1175200835, 1529961155, -1718440249, -1437271480, -25297849, -1932772277, 1302688590, 1824010064, 1125942995, -2012064808, 1714983259, -982240672, -1616024223, 264490465, -1831448989, 512817379, 551678437, 600223072, -85068057, 994339682, 1082533858, -1322556181, 1798376813, 321137520, 939783153, -1283367437, -204513165, -2047008267, 576834804, 1188763508, 1313555833, -683014530}\n",
            "1.0\n",
            "j: {180732545, 568736514, -128898301, -1212772091, 486382856, 413926281, -1525551472, -278415983, -535655405, -510713837, 396908691, -671294954, 1183263255, 1078036504, 2074037913, -355227238, -994950751, -1122827229, -470063453, 950584740, 1962037159, 449181736, 1648241448, 370684330, -789460175, -1508762062, 1041331763, 373905332, 556432565, 1699514292, 179782071, -1539810888, -975904967, -1094640197, 864180155, -273834945, 2060106176, 1670574657, -1329733308, 817330117, -1671887418, -25297849, -1499007670, 1175341263, -1138452400, -1086987311, -916270511, 1243397715, 1827690582, 668830807, -313924648, -1365213477, 2145062747, 561834846, -33451169, -1916726816, 127724000, 1082533858, -1831448989, 1432042466, -1730617115, -917298327, 173689705, 2099154539, -1428997011, 406527725, -1558020241, 189359984, 1180832241, 1309784943, 353521267, 555898867, -192410635, 1188763508, 900794743, 1373151344}\n",
            "0.07092198581560284\n",
            "i: {180732545, 568736514, -128898301, -1212772091, 486382856, 413926281, -1525551472, -278415983, -535655405, -510713837, 396908691, -671294954, 1183263255, 1078036504, 2074037913, -355227238, -994950751, -1122827229, -470063453, 950584740, 1962037159, 449181736, 1648241448, 370684330, -789460175, -1508762062, 1041331763, 373905332, 556432565, 1699514292, 179782071, -1539810888, -975904967, -1094640197, 864180155, -273834945, 2060106176, 1670574657, -1329733308, 817330117, -1671887418, -25297849, -1499007670, 1175341263, -1138452400, -1086987311, -916270511, 1243397715, 1827690582, 668830807, -313924648, -1365213477, 2145062747, 561834846, -33451169, -1916726816, 127724000, 1082533858, -1831448989, 1432042466, -1730617115, -917298327, 173689705, 2099154539, -1428997011, 406527725, -1558020241, 189359984, 1180832241, 1309784943, 353521267, 555898867, -192410635, 1188763508, 900794743, 1373151344}\n",
            "j: {-332525566, -1995577852, -420240380, -1812995065, -513687032, -961597943, 319229968, -1901672431, -2123672045, -1752586733, -510713837, -1887161321, -1641628645, -1214758884, 4712987, 311036955, -1980956638, -1122827229, -1320118235, -1397903320, -1718089171, -1932550608, -890527180, 683351102, -459993025, 496170054, -1437271480, -1138452400, -916270511, -1976365486, 668830807, -1603570596, -605313444, -982240672, -1151486879, -1747104670, -583141276, 562126437, -265542550, -1428997011, -386891667, -393375121, -184863122, -204513165, -1522330506, -1913882500, -683014530, 14187135, -792574336, 541706366, -1262816118, 446689419, -1158368113, -126956913, -1580008302, -452134765, 396908691, 6361749, -763306346, -641146218, -506883434, -370528102, -2010277221, -1845255009, 266998944, 85954211, -254995796, -1861809489, -2047192911, -212659020, -246996807, -1030179654, -1754083653, 403696831, 756477124, 446019782, 44321479, -455330612, -238043441, -1575617327, -1570008366, -896359211, -1622693674, -644524835, -712022816, -1730617115, -925969178, -85068057, -1322556181, 406527725, -340688656, 409005809, -665843980, -1898667271, 19488512, 568736514, -128898301, 516779783, 486382856, -1973392113, -12273905, 79169295, -640388841, 252630808, -497335526, 649509146, -524247780, -1113655520, -772691676, -1397664469, -1829817044, -1388650707, -689452245, -1528467665, -306693332, 272511790, -1782513866, -975904967, -1204186819, -1895727808, -1315348671, 176378688, -673062589, -366743227, 447562568, -1499007670, -2045052597, 171391315, -1627141802, -1961049769, -1410234026, -482848425, 65415510, -2131137187, 399482206, -1404716193, -632956570, -1954362007, -1816102039, -917298327, -1876696724, -245933207, 173689705, -759944849, -1885513360, 189359984, -724299917, -1452297348, -537883268, -1396663933, -2145484920, 556622217, -726155890, -2077401711, -1795267695, 453127570, -989485164, -695708266, 368709017, -13245539, -786035298, -1840419928, 518812586, 373905332, -968578123, 515008948, -1274027080, -1218682439, 1207737, -1094640197, -55811139, 564615102, -647636545, -796156477, -1671887418, -694254134, -130843188, -1111342643, -1086987311, -313924648, -788282916, -634697252, -2033654306, -705659425, 127724000, 264490465, -628869661, -1670059548, -426996765, 551678437, -1600120857, 743786986, -1474053141, 555898867, -2047008267, -192410635, 104520693, 717746168, 198382075, -734008835, -572335617}\n",
            "0.0992063492063492\n",
            "j: {-535655405, -91494374, 880839714, 449181736, -1508762062, -392447947, -25297849, -1437271480, -1932772277, 1243397715, -1831448989, -386891667, -204513165, 850790003, -792574336, -126956913, -1525551472, -506883434, -370528102, -1845255009, -1049900897, 1079451807, -470063453, 1921964217, 1640234172, -1718440249, -455330612, -1575617327, -1570008366, 1125942995, -1365213477, 1135589094, -85068057, -1212772091, -1292105447, -1113655520, 712712494, 1616550192, -789460175, 554782515, -1204186819, -1309829310, 1302688590, 561834846, -33451169, -1616024223, 994339682, 900794743, 1313555833, -46672006, -1452297348, 1372144512, 679458699, 1016238477, -33884265, -967907432, -355227238, 1632739740, 359948702, -994950751, 1143529907, 179782071, 1182852024, -1094640197, -647636545, 1005539775, 2060106176, 817330117, 2055835083, -2012064808, -246366754, 1082533858, -1670059548, 1354549733, -575442457, 325776365, 104520693, 717746168, -734008835}\n",
            "0.15671641791044777\n",
            "j: {756454400, 874809345, 568736514, -1995577852, 1996308102, 1598157451, -2146610548, -726155890, 1457564686, -1901672431, 6361749, -641146218, 1836687125, 2064263833, -741308261, -1214758884, -1845255009, -1122827229, 1770351782, 850458667, 1640853805, 1892997677, 1471245496, 658718266, 792147260, 403696831, -1690526270, 44321479, 447562568, 482328906, -238043441, -1575617327, -1976365486, -2012064808, 1714983259, -1603570596, 1949727068, -2033654306, 55424735, 868390623, 1905401442, -1747104670, -628869661, 512817379, 766671331, -925969178, -632956570, -575442457, -1816102039, 1501215207, 1691855463, -184863122, 321137520, -822303111, 1823676154, 375861115, -734008835}\n",
            "0.015267175572519083\n",
            "j: {-1995577852, -420240380, -961597943, 679458699, 1016238477, 1613105037, 79169295, -1525551472, 1395836175, -2123672045, -763306346, -671294954, -967907432, -1292105447, -91494374, -741308261, -33884265, 252630808, 359948702, 368709017, 1185391645, 2064263833, 880839714, 1352692389, 1962037159, 2063249962, 712712494, 554782515, 1041331763, 1654954678, 179782071, 1182852024, 1471245496, 658718266, 792147260, -1204186819, -889680450, -647636545, -273834945, 176378688, -1309829310, 1005539775, 1102650336, 1175200835, 1529961155, -1718440249, -1437271480, -25297849, -1932772277, 1302688590, 1824010064, 1125942995, -2012064808, 1714983259, -982240672, -1616024223, 264490465, -1831448989, 512817379, 551678437, 600223072, -85068057, 994339682, 1082533858, -1322556181, 1798376813, 321137520, 939783153, -1283367437, -204513165, -2047008267, 576834804, 1188763508, 1313555833, -683014530}\n",
            "0.07092198581560284\n",
            "j: {180732545, 568736514, -128898301, -1212772091, 486382856, 413926281, -1525551472, -278415983, -535655405, -510713837, 396908691, -671294954, 1183263255, 1078036504, 2074037913, -355227238, -994950751, -1122827229, -470063453, 950584740, 1962037159, 449181736, 1648241448, 370684330, -789460175, -1508762062, 1041331763, 373905332, 556432565, 1699514292, 179782071, -1539810888, -975904967, -1094640197, 864180155, -273834945, 2060106176, 1670574657, -1329733308, 817330117, -1671887418, -25297849, -1499007670, 1175341263, -1138452400, -1086987311, -916270511, 1243397715, 1827690582, 668830807, -313924648, -1365213477, 2145062747, 561834846, -33451169, -1916726816, 127724000, 1082533858, -1831448989, 1432042466, -1730617115, -917298327, 173689705, 2099154539, -1428997011, 406527725, -1558020241, 189359984, 1180832241, 1309784943, 353521267, 555898867, -192410635, 1188763508, 900794743, 1373151344}\n",
            "1.0\n"
          ]
        }
      ]
    },
    {
      "cell_type": "code",
      "source": [
        "def jaccard(inSet1, inSet2):\n",
        "    inter = inSet1.intersection(inSet2)\n",
        "    union = inSet1.union(inSet2)\n",
        "    jacc = len(inter)/len(union)\n",
        "\n",
        "    return jacc"
      ],
      "metadata": {
        "id": "QMd1FYuNw_DK"
      },
      "execution_count": null,
      "outputs": []
    },
    {
      "cell_type": "code",
      "source": [
        "def bloomFilter(inSet, m, hs1=0, hs2=10):\n",
        "    \n",
        "    final_bf = bv.BitVector(size = m)\n",
        "    \n",
        "    for val in inSet:\n",
        "        h_1 = seededHash(val,hs1)\n",
        "        final_bf[h_1 % m] = 1\n",
        "        h_2 = seededHash(val,hs2)\n",
        "        final_bf[h_2 % m] = 1\n",
        "    \n",
        "    return final_bf"
      ],
      "metadata": {
        "id": "Xl3DeVX8w8Hx"
      },
      "execution_count": null,
      "outputs": []
    },
    {
      "cell_type": "code",
      "source": [
        "def bf_jaccard(bf1, bf2):\n",
        "    inter = 0\n",
        "    union = 0 \n",
        "    for val in range(len(bf1)):\n",
        "        if (bf1[val] == 1) and (bf2[val] == 1):\n",
        "            inter += 1\n",
        "        if (bf1[val] == 1) or (bf2[val] == 1):\n",
        "            union += 1\n",
        "    \n",
        "    jacc = inter/union\n",
        "    \n",
        "    return jacc"
      ],
      "metadata": {
        "id": "vQVA6C6exCPN"
      },
      "execution_count": null,
      "outputs": []
    },
    {
      "cell_type": "code",
      "source": [
        "def bf_find(bf, val, hs1=0, hs2=10):\n",
        "    \n",
        "    ind_1 = seededHash(val, hs1) % len(bf)\n",
        "    ind_2 = seededHash(val, hs2) % len(bf)\n",
        "    \n",
        "    if (bf[ind_1] == 1) and (bf[ind_2] == 1):\n",
        "        return True\n",
        "    else:\n",
        "        return False"
      ],
      "metadata": {
        "id": "SWa9dXAXxF5n"
      },
      "execution_count": null,
      "outputs": []
    }
  ]
}